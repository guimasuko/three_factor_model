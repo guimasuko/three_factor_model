{
 "cells": [
  {
   "attachments": {},
   "cell_type": "markdown",
   "metadata": {},
   "source": [
    "## Three Factor Model (Fama and French)\n",
    "\n",
    "O objetivo desse notebook é replicar o modelo de três fatores de Fama e French. Para isso seguiremos o tutorial encontrado na internet [Estimating Stock Returns with Fama-French Three-Factor Model in Python](https://medium.com/the-handbook-of-coding-in-finance/estimating-stock-returns-with-fama-french-three-factor-model-in-python-1a98e3936859)."
   ]
  },
  {
   "attachments": {},
   "cell_type": "markdown",
   "metadata": {},
   "source": [
    "O modelo de três fatores de Fama e French é amplamente usado na academia e na industria em busca de estimar melhor o excesso de retorno de ativos financeiros. O modelo nada mais é do que uma extensão do [Capital Asset Pricing Model (CAPM)](https://en.wikipedia.org/wiki/Capital_asset_pricing_model) que é um modelo de precificação de ativos através do excesso de retorno esperado de mercado, isso é,\n",
    "\n",
    "$$\n",
    "\\mathbb{E}[R_i] = R_f + \\beta_i \\left( \\mathbb{E}[R_m] - R_f \\right)\n",
    "$$\n",
    "\n",
    "onde \n",
    "\n",
    "* $\\mathbb{E}[R_i]$ é o retorno esperado do ativo $i$\n",
    "* $R_f$ é o retorno do ativo livre de risco\n",
    "* $\\mathbb{E}[R_m]$ é o retorno esperado do mercado\n",
    "* $\\beta_i = \\frac{\\mathbb{C}[R_i, R_m]}{\\mathbb{V}[R_m]}$"
   ]
  },
  {
   "attachments": {},
   "cell_type": "markdown",
   "metadata": {},
   "source": [
    "O modelo de Fama e French se extende adicionando mais dois fatores ao CAPM original. Enquanto o CAPM utiliza apenas o Market Factor (MKT), $\\mathbb{E}[R_m] - R_f$, também conhecido como excesso de retorno de mercado, o modelo de Fama e French adiciona um componentee de tamanho, Size Factor (SMB) e um componente de valor, Value Factor (HML), construídos, respectivamente, pelo excesso de retorno entre ativos com pequeno Market Cap e ativos com grande Market Cap e o excesso de retorno entre ativos com alta razão book-to-market e ativos com tal razão baixa.\n",
    "\n",
    "$$\n",
    "\\mathbb{E}[R_i] = R_f + \\beta_1 \\operatorname{MKT} + \\beta_2 \\operatorname{SMB} + \\beta_3 \\operatorname{HML} + \\alpha\n",
    "$$"
   ]
  },
  {
   "attachments": {},
   "cell_type": "markdown",
   "metadata": {},
   "source": [
    "O exercício proposto é implementar o Fama-French Three-Factor Model estimando os retornos mensais das ações da Microsoft."
   ]
  },
  {
   "cell_type": "code",
   "execution_count": 1,
   "metadata": {},
   "outputs": [],
   "source": [
    "import pandas as pd\n",
    "import yfinance as yf\n",
    "import statsmodels.api as sm\n",
    "import getFamaFrenchFactors as gff"
   ]
  },
  {
   "attachments": {},
   "cell_type": "markdown",
   "metadata": {},
   "source": [
    "### Dados"
   ]
  },
  {
   "cell_type": "code",
   "execution_count": 2,
   "metadata": {},
   "outputs": [
    {
     "name": "stdout",
     "output_type": "stream",
     "text": [
      "[*********************100%***********************]  1 of 1 completed\n"
     ]
    }
   ],
   "source": [
    "# dados dos preços da ação da Microsoft\n",
    "ticker = 'msft'\n",
    "start = '2016-8-31'\n",
    "end = '2021-8-31'\n",
    "\n",
    "stock_data = yf.download(ticker, start, end, adjusted=True)"
   ]
  },
  {
   "cell_type": "code",
   "execution_count": 3,
   "metadata": {},
   "outputs": [
    {
     "data": {
      "text/html": [
       "<div>\n",
       "<style scoped>\n",
       "    .dataframe tbody tr th:only-of-type {\n",
       "        vertical-align: middle;\n",
       "    }\n",
       "\n",
       "    .dataframe tbody tr th {\n",
       "        vertical-align: top;\n",
       "    }\n",
       "\n",
       "    .dataframe thead th {\n",
       "        text-align: right;\n",
       "    }\n",
       "</style>\n",
       "<table border=\"1\" class=\"dataframe\">\n",
       "  <thead>\n",
       "    <tr style=\"text-align: right;\">\n",
       "      <th></th>\n",
       "      <th>Open</th>\n",
       "      <th>High</th>\n",
       "      <th>Low</th>\n",
       "      <th>Close</th>\n",
       "      <th>Adj Close</th>\n",
       "      <th>Volume</th>\n",
       "    </tr>\n",
       "    <tr>\n",
       "      <th>Date</th>\n",
       "      <th></th>\n",
       "      <th></th>\n",
       "      <th></th>\n",
       "      <th></th>\n",
       "      <th></th>\n",
       "      <th></th>\n",
       "    </tr>\n",
       "  </thead>\n",
       "  <tbody>\n",
       "    <tr>\n",
       "      <th>2016-08-31</th>\n",
       "      <td>57.650002</td>\n",
       "      <td>57.799999</td>\n",
       "      <td>57.299999</td>\n",
       "      <td>57.459999</td>\n",
       "      <td>52.573933</td>\n",
       "      <td>20860300</td>\n",
       "    </tr>\n",
       "    <tr>\n",
       "      <th>2016-09-01</th>\n",
       "      <td>57.009998</td>\n",
       "      <td>57.820000</td>\n",
       "      <td>57.009998</td>\n",
       "      <td>57.590000</td>\n",
       "      <td>52.692886</td>\n",
       "      <td>26075400</td>\n",
       "    </tr>\n",
       "    <tr>\n",
       "      <th>2016-09-02</th>\n",
       "      <td>57.669998</td>\n",
       "      <td>58.189999</td>\n",
       "      <td>57.419998</td>\n",
       "      <td>57.669998</td>\n",
       "      <td>52.766068</td>\n",
       "      <td>18900500</td>\n",
       "    </tr>\n",
       "    <tr>\n",
       "      <th>2016-09-06</th>\n",
       "      <td>57.779999</td>\n",
       "      <td>57.799999</td>\n",
       "      <td>57.209999</td>\n",
       "      <td>57.610001</td>\n",
       "      <td>52.711178</td>\n",
       "      <td>16278400</td>\n",
       "    </tr>\n",
       "    <tr>\n",
       "      <th>2016-09-07</th>\n",
       "      <td>57.470001</td>\n",
       "      <td>57.840000</td>\n",
       "      <td>57.410000</td>\n",
       "      <td>57.660000</td>\n",
       "      <td>52.756924</td>\n",
       "      <td>17493400</td>\n",
       "    </tr>\n",
       "    <tr>\n",
       "      <th>...</th>\n",
       "      <td>...</td>\n",
       "      <td>...</td>\n",
       "      <td>...</td>\n",
       "      <td>...</td>\n",
       "      <td>...</td>\n",
       "      <td>...</td>\n",
       "    </tr>\n",
       "    <tr>\n",
       "      <th>2021-08-24</th>\n",
       "      <td>305.019989</td>\n",
       "      <td>305.649994</td>\n",
       "      <td>302.000000</td>\n",
       "      <td>302.619995</td>\n",
       "      <td>299.263184</td>\n",
       "      <td>18175800</td>\n",
       "    </tr>\n",
       "    <tr>\n",
       "      <th>2021-08-25</th>\n",
       "      <td>304.299988</td>\n",
       "      <td>304.589996</td>\n",
       "      <td>300.420013</td>\n",
       "      <td>302.010010</td>\n",
       "      <td>298.660004</td>\n",
       "      <td>20006100</td>\n",
       "    </tr>\n",
       "    <tr>\n",
       "      <th>2021-08-26</th>\n",
       "      <td>300.989990</td>\n",
       "      <td>302.429993</td>\n",
       "      <td>298.950012</td>\n",
       "      <td>299.089996</td>\n",
       "      <td>295.772369</td>\n",
       "      <td>17666100</td>\n",
       "    </tr>\n",
       "    <tr>\n",
       "      <th>2021-08-27</th>\n",
       "      <td>298.989990</td>\n",
       "      <td>300.869995</td>\n",
       "      <td>296.829987</td>\n",
       "      <td>299.720001</td>\n",
       "      <td>296.395386</td>\n",
       "      <td>22605700</td>\n",
       "    </tr>\n",
       "    <tr>\n",
       "      <th>2021-08-30</th>\n",
       "      <td>301.119995</td>\n",
       "      <td>304.220001</td>\n",
       "      <td>301.059998</td>\n",
       "      <td>303.589996</td>\n",
       "      <td>300.222443</td>\n",
       "      <td>16348100</td>\n",
       "    </tr>\n",
       "  </tbody>\n",
       "</table>\n",
       "<p>1258 rows × 6 columns</p>\n",
       "</div>"
      ],
      "text/plain": [
       "                  Open        High         Low       Close   Adj Close  \\\n",
       "Date                                                                     \n",
       "2016-08-31   57.650002   57.799999   57.299999   57.459999   52.573933   \n",
       "2016-09-01   57.009998   57.820000   57.009998   57.590000   52.692886   \n",
       "2016-09-02   57.669998   58.189999   57.419998   57.669998   52.766068   \n",
       "2016-09-06   57.779999   57.799999   57.209999   57.610001   52.711178   \n",
       "2016-09-07   57.470001   57.840000   57.410000   57.660000   52.756924   \n",
       "...                ...         ...         ...         ...         ...   \n",
       "2021-08-24  305.019989  305.649994  302.000000  302.619995  299.263184   \n",
       "2021-08-25  304.299988  304.589996  300.420013  302.010010  298.660004   \n",
       "2021-08-26  300.989990  302.429993  298.950012  299.089996  295.772369   \n",
       "2021-08-27  298.989990  300.869995  296.829987  299.720001  296.395386   \n",
       "2021-08-30  301.119995  304.220001  301.059998  303.589996  300.222443   \n",
       "\n",
       "              Volume  \n",
       "Date                  \n",
       "2016-08-31  20860300  \n",
       "2016-09-01  26075400  \n",
       "2016-09-02  18900500  \n",
       "2016-09-06  16278400  \n",
       "2016-09-07  17493400  \n",
       "...              ...  \n",
       "2021-08-24  18175800  \n",
       "2021-08-25  20006100  \n",
       "2021-08-26  17666100  \n",
       "2021-08-27  22605700  \n",
       "2021-08-30  16348100  \n",
       "\n",
       "[1258 rows x 6 columns]"
      ]
     },
     "execution_count": 3,
     "metadata": {},
     "output_type": "execute_result"
    }
   ],
   "source": [
    "stock_data"
   ]
  },
  {
   "attachments": {},
   "cell_type": "markdown",
   "metadata": {},
   "source": [
    "Como construir os três fatores de [Fama e French](https://github.com/guimasuko/three_factor_model/blob/main/Common%20risk%20factors%20in%20the%20returns%20on%20stocks%20and%20bonds.pdf):\n",
    "\n",
    "* **Market Factor (MKT)**\n",
    "O Market Factor é o excesso de retorno esperado do mercado em relação ao retorno do ativo livre de risco e pode ser criado a partir da fórmula a seguir\n",
    "\n",
    "$$\n",
    "\\operatorname{MKT} = \\mathbb{E}[R_m] - R_f\n",
    "$$\n",
    "\n",
    "Para construir os fatores SMB e HML precisamos categorizar os ativos de duas maneiras diferentes. A primeira clusteriza dois grupos baseado no Market Cap, isso é, categorizamos os ativos em Big (B) ou Small (S). Ativos Big são aqueles no topo de $90\\%$ de capitalização, enquanto ativos Small são aqueles com os $10\\%$ restante de capitalização. A segunda maneira divide os ativos em três grupos baseado no Book-to-Market Equity (B/M). Os ativos High (H), Middle (M) e Low (L) são respectivamente, aqueles com os $30\\%$ maiores B/M, $40\\%$ no meio e $30\\%$ inferiores. \n",
    "\n",
    "Com os ativos categorizados dessa forma, somos capazes de criar seis portifólios diferentes: $\\operatorname{S/L}, \\operatorname{S/M}, \\operatorname{S/H}, \\operatorname{B/L}, \\operatorname{B/M}, \\operatorname{B/H}$ onde, por exemplo, $\\operatorname{S/L}$ é o portfólio que contém as ações que estão tanto no grupo de Small Market-Cap quanto no grupo de Low B/M, e o portfólio $\\operatorname{B/H}$ contém as ações que estão no grupo de Big Market-Cap e High B/M.\n",
    "\n",
    "* **Size Factor (SMB)**\n",
    "\n",
    "O Size Factor é o excesso de retorno ponderado dos portfólios das ações de empresas cujo Market-Cap estão abaixo de 10\\% (Small-Cap) em relação ao retorno ponderado dos portfólios das ações de empresas cujo Market-Cap estão acima de 90\\% (Large-Cap). O SMB é construído a partir\n",
    "\n",
    "$$\n",
    "\\operatorname{SMB} = \\frac{1}{3}\\left( \\operatorname{S/L} + \\operatorname{S/M} + \\operatorname{S/H} \\right) - \\\n",
    "                     \\frac{1}{3}\\left( \\operatorname{B/L} + \\operatorname{B/M} + \\operatorname{B/H} \\right)\n",
    "$$\n",
    "\n",
    "* **Value Factor (HML)**\n",
    "\n",
    "O Value Factor é o excesso de retorno ponderado dos portfólio das ações de empresas cujo B/M estão acima do percentil 30 em relação ao retorno ponderado dos portfólios das ações de empresas cujo B/M estão abaixo do percentil 70.\n",
    "\n",
    "$$\n",
    "\\operatorname{HML} = \\frac{1}{2}\\left( \\operatorname{S/H} + \\operatorname{B/H} \\right) - \\\n",
    "                     \\frac{1}{2}\\left( \\operatorname{S/L} + \\operatorname{B/L} \\right)\n",
    "$$"
   ]
  },
  {
   "attachments": {},
   "cell_type": "markdown",
   "metadata": {},
   "source": [
    "Para obter os três fatores de Fama-French usaremos uma biblioteca pronta cujo código abaixo retorna um dataframe contendo os três fatores e o retorno do ativo livre de risco. Detalhes adicionais sobre a biblioteca pode ser obtido em [vashOnGitHub](https://github.com/vashOnGitHub/getFamaFrenchFactors)."
   ]
  },
  {
   "cell_type": "code",
   "execution_count": 4,
   "metadata": {},
   "outputs": [],
   "source": [
    "# importando as colunas dos três fatores e do ativo livre de risco \n",
    "ff3_monthly = gff.famaFrench3Factor(frequency='m')\n",
    "ff3_monthly.rename(columns={\"date_ff_factors\": 'Date'}, inplace=True)\n",
    "ff3_monthly.set_index('Date', inplace=True)"
   ]
  },
  {
   "cell_type": "code",
   "execution_count": 5,
   "metadata": {},
   "outputs": [
    {
     "data": {
      "text/html": [
       "<div>\n",
       "<style scoped>\n",
       "    .dataframe tbody tr th:only-of-type {\n",
       "        vertical-align: middle;\n",
       "    }\n",
       "\n",
       "    .dataframe tbody tr th {\n",
       "        vertical-align: top;\n",
       "    }\n",
       "\n",
       "    .dataframe thead th {\n",
       "        text-align: right;\n",
       "    }\n",
       "</style>\n",
       "<table border=\"1\" class=\"dataframe\">\n",
       "  <thead>\n",
       "    <tr style=\"text-align: right;\">\n",
       "      <th></th>\n",
       "      <th>Mkt-RF</th>\n",
       "      <th>SMB</th>\n",
       "      <th>HML</th>\n",
       "      <th>RF</th>\n",
       "    </tr>\n",
       "    <tr>\n",
       "      <th>Date</th>\n",
       "      <th></th>\n",
       "      <th></th>\n",
       "      <th></th>\n",
       "      <th></th>\n",
       "    </tr>\n",
       "  </thead>\n",
       "  <tbody>\n",
       "    <tr>\n",
       "      <th>1926-07-31</th>\n",
       "      <td>0.0296</td>\n",
       "      <td>-0.0256</td>\n",
       "      <td>-0.0243</td>\n",
       "      <td>0.0022</td>\n",
       "    </tr>\n",
       "    <tr>\n",
       "      <th>1926-08-31</th>\n",
       "      <td>0.0264</td>\n",
       "      <td>-0.0117</td>\n",
       "      <td>0.0382</td>\n",
       "      <td>0.0025</td>\n",
       "    </tr>\n",
       "    <tr>\n",
       "      <th>1926-09-30</th>\n",
       "      <td>0.0036</td>\n",
       "      <td>-0.0140</td>\n",
       "      <td>0.0013</td>\n",
       "      <td>0.0023</td>\n",
       "    </tr>\n",
       "    <tr>\n",
       "      <th>1926-10-31</th>\n",
       "      <td>-0.0324</td>\n",
       "      <td>-0.0009</td>\n",
       "      <td>0.0070</td>\n",
       "      <td>0.0032</td>\n",
       "    </tr>\n",
       "    <tr>\n",
       "      <th>1926-11-30</th>\n",
       "      <td>0.0253</td>\n",
       "      <td>-0.0010</td>\n",
       "      <td>-0.0051</td>\n",
       "      <td>0.0031</td>\n",
       "    </tr>\n",
       "    <tr>\n",
       "      <th>...</th>\n",
       "      <td>...</td>\n",
       "      <td>...</td>\n",
       "      <td>...</td>\n",
       "      <td>...</td>\n",
       "    </tr>\n",
       "    <tr>\n",
       "      <th>2022-08-31</th>\n",
       "      <td>-0.0377</td>\n",
       "      <td>0.0139</td>\n",
       "      <td>0.0031</td>\n",
       "      <td>0.0019</td>\n",
       "    </tr>\n",
       "    <tr>\n",
       "      <th>2022-09-30</th>\n",
       "      <td>-0.0935</td>\n",
       "      <td>-0.0082</td>\n",
       "      <td>0.0003</td>\n",
       "      <td>0.0019</td>\n",
       "    </tr>\n",
       "    <tr>\n",
       "      <th>2022-10-31</th>\n",
       "      <td>0.0783</td>\n",
       "      <td>0.0010</td>\n",
       "      <td>0.0805</td>\n",
       "      <td>0.0023</td>\n",
       "    </tr>\n",
       "    <tr>\n",
       "      <th>2022-11-30</th>\n",
       "      <td>0.0460</td>\n",
       "      <td>-0.0340</td>\n",
       "      <td>0.0139</td>\n",
       "      <td>0.0029</td>\n",
       "    </tr>\n",
       "    <tr>\n",
       "      <th>2022-12-31</th>\n",
       "      <td>-0.0641</td>\n",
       "      <td>-0.0064</td>\n",
       "      <td>0.0136</td>\n",
       "      <td>0.0033</td>\n",
       "    </tr>\n",
       "  </tbody>\n",
       "</table>\n",
       "<p>1158 rows × 4 columns</p>\n",
       "</div>"
      ],
      "text/plain": [
       "            Mkt-RF     SMB     HML      RF\n",
       "Date                                      \n",
       "1926-07-31  0.0296 -0.0256 -0.0243  0.0022\n",
       "1926-08-31  0.0264 -0.0117  0.0382  0.0025\n",
       "1926-09-30  0.0036 -0.0140  0.0013  0.0023\n",
       "1926-10-31 -0.0324 -0.0009  0.0070  0.0032\n",
       "1926-11-30  0.0253 -0.0010 -0.0051  0.0031\n",
       "...            ...     ...     ...     ...\n",
       "2022-08-31 -0.0377  0.0139  0.0031  0.0019\n",
       "2022-09-30 -0.0935 -0.0082  0.0003  0.0019\n",
       "2022-10-31  0.0783  0.0010  0.0805  0.0023\n",
       "2022-11-30  0.0460 -0.0340  0.0139  0.0029\n",
       "2022-12-31 -0.0641 -0.0064  0.0136  0.0033\n",
       "\n",
       "[1158 rows x 4 columns]"
      ]
     },
     "execution_count": 5,
     "metadata": {},
     "output_type": "execute_result"
    }
   ],
   "source": [
    "ff3_monthly"
   ]
  },
  {
   "attachments": {},
   "cell_type": "markdown",
   "metadata": {},
   "source": [
    "Para os preços dos ativos da Microsoft usaremos o preço ajustado de fechamento, pois esse é capaz de capturar pagamentos de dividendos, etc. Também precisamos colocar tal base em periodicidade mensal. Por fim, também precisamos transformar os valores de preços para taxas de retorno."
   ]
  },
  {
   "cell_type": "code",
   "execution_count": 6,
   "metadata": {},
   "outputs": [],
   "source": [
    "# resample(): determina a periodicidade\n",
    "# last(): determina qual preço é pego dentro dessa nova periodicidade\n",
    "# pct_change(): toma os valores de variação percentual\n",
    "stock_returns = stock_data['Adj Close'].resample('M').last().pct_change().dropna()"
   ]
  },
  {
   "cell_type": "code",
   "execution_count": 7,
   "metadata": {},
   "outputs": [],
   "source": [
    "# renomeando o nome da coluna\n",
    "stock_returns.name = \"R_MSFT\""
   ]
  },
  {
   "cell_type": "code",
   "execution_count": 8,
   "metadata": {},
   "outputs": [
    {
     "data": {
      "text/plain": [
       "Date\n",
       "2016-09-30    0.002437\n",
       "2016-10-31    0.040278\n",
       "2016-11-30    0.012468\n",
       "2016-12-31    0.031198\n",
       "2017-01-31    0.040393\n",
       "Freq: M, Name: R_MSFT, dtype: float64"
      ]
     },
     "execution_count": 8,
     "metadata": {},
     "output_type": "execute_result"
    }
   ],
   "source": [
    "stock_returns.head()"
   ]
  },
  {
   "cell_type": "code",
   "execution_count": 9,
   "metadata": {},
   "outputs": [],
   "source": [
    "# unindo a coluna dos retornos mensais da Microsoft ao dataframe com os fatores de Fama-French (ao unir pela coluna Date, dropamos todas linhas de fatores FF onde não temos dados de retorno da Microsoft)\n",
    "ff_data = ff3_monthly.merge(stock_returns,on='Date')"
   ]
  },
  {
   "cell_type": "code",
   "execution_count": 10,
   "metadata": {},
   "outputs": [
    {
     "data": {
      "text/html": [
       "<div>\n",
       "<style scoped>\n",
       "    .dataframe tbody tr th:only-of-type {\n",
       "        vertical-align: middle;\n",
       "    }\n",
       "\n",
       "    .dataframe tbody tr th {\n",
       "        vertical-align: top;\n",
       "    }\n",
       "\n",
       "    .dataframe thead th {\n",
       "        text-align: right;\n",
       "    }\n",
       "</style>\n",
       "<table border=\"1\" class=\"dataframe\">\n",
       "  <thead>\n",
       "    <tr style=\"text-align: right;\">\n",
       "      <th></th>\n",
       "      <th>Mkt-RF</th>\n",
       "      <th>SMB</th>\n",
       "      <th>HML</th>\n",
       "      <th>RF</th>\n",
       "      <th>R_MSFT</th>\n",
       "    </tr>\n",
       "    <tr>\n",
       "      <th>Date</th>\n",
       "      <th></th>\n",
       "      <th></th>\n",
       "      <th></th>\n",
       "      <th></th>\n",
       "      <th></th>\n",
       "    </tr>\n",
       "  </thead>\n",
       "  <tbody>\n",
       "    <tr>\n",
       "      <th>2016-09-30</th>\n",
       "      <td>0.0025</td>\n",
       "      <td>0.0213</td>\n",
       "      <td>-0.0123</td>\n",
       "      <td>0.0002</td>\n",
       "      <td>0.002437</td>\n",
       "    </tr>\n",
       "    <tr>\n",
       "      <th>2016-10-31</th>\n",
       "      <td>-0.0202</td>\n",
       "      <td>-0.0442</td>\n",
       "      <td>0.0412</td>\n",
       "      <td>0.0002</td>\n",
       "      <td>0.040278</td>\n",
       "    </tr>\n",
       "    <tr>\n",
       "      <th>2016-11-30</th>\n",
       "      <td>0.0486</td>\n",
       "      <td>0.0567</td>\n",
       "      <td>0.0819</td>\n",
       "      <td>0.0001</td>\n",
       "      <td>0.012468</td>\n",
       "    </tr>\n",
       "    <tr>\n",
       "      <th>2016-12-31</th>\n",
       "      <td>0.0181</td>\n",
       "      <td>0.0008</td>\n",
       "      <td>0.0356</td>\n",
       "      <td>0.0003</td>\n",
       "      <td>0.031198</td>\n",
       "    </tr>\n",
       "    <tr>\n",
       "      <th>2017-01-31</th>\n",
       "      <td>0.0194</td>\n",
       "      <td>-0.0114</td>\n",
       "      <td>-0.0276</td>\n",
       "      <td>0.0004</td>\n",
       "      <td>0.040393</td>\n",
       "    </tr>\n",
       "  </tbody>\n",
       "</table>\n",
       "</div>"
      ],
      "text/plain": [
       "            Mkt-RF     SMB     HML      RF    R_MSFT\n",
       "Date                                                \n",
       "2016-09-30  0.0025  0.0213 -0.0123  0.0002  0.002437\n",
       "2016-10-31 -0.0202 -0.0442  0.0412  0.0002  0.040278\n",
       "2016-11-30  0.0486  0.0567  0.0819  0.0001  0.012468\n",
       "2016-12-31  0.0181  0.0008  0.0356  0.0003  0.031198\n",
       "2017-01-31  0.0194 -0.0114 -0.0276  0.0004  0.040393"
      ]
     },
     "execution_count": 10,
     "metadata": {},
     "output_type": "execute_result"
    }
   ],
   "source": [
    "ff_data.head()"
   ]
  },
  {
   "attachments": {},
   "cell_type": "markdown",
   "metadata": {},
   "source": [
    "### Estimação\n",
    "\n",
    "Vamos estimar os coeficientes através de OLS \n",
    "\n",
    "$$\n",
    "y = \\theta X\n",
    "$$\n",
    "\n",
    "onde \n",
    "\n",
    "* $y = \\mathbb{E}[R_i] - R_f$\n",
    "* $X = \\left(1, \\operatorname{MKT}, \\operatorname{SMB}, \\operatorname{HML} \\right)'$\n",
    "* $\\theta = \\left(\\alpha, \\beta_1, \\beta_2, \\beta_3 \\right)'$\n",
    "\n"
   ]
  },
  {
   "cell_type": "code",
   "execution_count": 11,
   "metadata": {},
   "outputs": [],
   "source": [
    "# criando as variáveis\n",
    "X = ff_data[['Mkt-RF', 'SMB', 'HML']]\n",
    "X = sm.add_constant(X)\n",
    "y = ff_data['R_MSFT'] - ff_data['RF']"
   ]
  },
  {
   "cell_type": "code",
   "execution_count": 12,
   "metadata": {},
   "outputs": [
    {
     "name": "stdout",
     "output_type": "stream",
     "text": [
      "                            OLS Regression Results                            \n",
      "==============================================================================\n",
      "Dep. Variable:                      y   R-squared:                       0.608\n",
      "Model:                            OLS   Adj. R-squared:                  0.587\n",
      "Method:                 Least Squares   F-statistic:                     28.99\n",
      "Date:                Wed, 01 Feb 2023   Prob (F-statistic):           1.91e-11\n",
      "Time:                        16:30:23   Log-Likelihood:                 126.51\n",
      "No. Observations:                  60   AIC:                            -245.0\n",
      "Df Residuals:                      56   BIC:                            -236.6\n",
      "Df Model:                           3                                         \n",
      "Covariance Type:            nonrobust                                         \n",
      "==============================================================================\n",
      "                 coef    std err          t      P>|t|      [0.025      0.975]\n",
      "------------------------------------------------------------------------------\n",
      "const          0.0155      0.004      3.670      0.001       0.007       0.024\n",
      "Mkt-RF         0.8633      0.094      9.196      0.000       0.675       1.051\n",
      "SMB           -0.3164      0.152     -2.086      0.042      -0.620      -0.013\n",
      "HML           -0.3283      0.109     -3.023      0.004      -0.546      -0.111\n",
      "==============================================================================\n",
      "Omnibus:                        2.385   Durbin-Watson:                   2.596\n",
      "Prob(Omnibus):                  0.304   Jarque-Bera (JB):                1.666\n",
      "Skew:                           0.160   Prob(JB):                        0.435\n",
      "Kurtosis:                       3.751   Cond. No.                         40.0\n",
      "==============================================================================\n",
      "\n",
      "Notes:\n",
      "[1] Standard Errors assume that the covariance matrix of the errors is correctly specified.\n"
     ]
    }
   ],
   "source": [
    "# resultados do modelo\n",
    "ff_model = sm.OLS(y, X).fit()\n",
    "print(ff_model.summary())"
   ]
  },
  {
   "attachments": {},
   "cell_type": "markdown",
   "metadata": {},
   "source": [
    "Encontramos que todos coeficientes são estatísticamente significantes com p-value menor que 0.05. Outro resultado é que o coeficiente do excesso de retorno do mercado é menor que um, isso significa que o ativo é menos volátil que o mercado."
   ]
  },
  {
   "cell_type": "code",
   "execution_count": 13,
   "metadata": {},
   "outputs": [],
   "source": [
    "# parâmetros\n",
    "a, b1, b2, b3 = ff_model.params"
   ]
  },
  {
   "attachments": {},
   "cell_type": "markdown",
   "metadata": {},
   "source": [
    "Para finalizar o exercício, o autor toma a média mensal de cada um dos três fatores, e também do retorno do ativo livre de risco e aplica os parâmetros encontrados para encontrar o retorno médio mensal da ação da Microsoft."
   ]
  },
  {
   "cell_type": "code",
   "execution_count": 14,
   "metadata": {},
   "outputs": [],
   "source": [
    "# criando as médias dos fatores\n",
    "rf = ff_data['RF'].mean()\n",
    "market_premium = ff3_monthly['Mkt-RF'].mean()\n",
    "size_premium = ff3_monthly['SMB'].mean()\n",
    "value_premium = ff3_monthly['HML'].mean()"
   ]
  },
  {
   "cell_type": "code",
   "execution_count": 15,
   "metadata": {},
   "outputs": [],
   "source": [
    "# estimando o retorno esperado mensal\n",
    "expected_monthly_return = rf + b1 * market_premium + b2 * size_premium + b3 * value_premium "
   ]
  },
  {
   "cell_type": "code",
   "execution_count": 19,
   "metadata": {},
   "outputs": [
    {
     "name": "stdout",
     "output_type": "stream",
     "text": [
      "Retorno esperado mensal da ação da Microsoft: 0.0049\n"
     ]
    }
   ],
   "source": [
    "print(\"Retorno esperado mensal da ação da Microsoft: \" + str(round(expected_monthly_return, 4)))"
   ]
  },
  {
   "cell_type": "code",
   "execution_count": 17,
   "metadata": {},
   "outputs": [],
   "source": [
    "expected_yearly_return = expected_monthly_return * 12"
   ]
  },
  {
   "cell_type": "code",
   "execution_count": 20,
   "metadata": {},
   "outputs": [
    {
     "name": "stdout",
     "output_type": "stream",
     "text": [
      "Retorno esperado anual da ação da Microsoft: 0.0583\n"
     ]
    }
   ],
   "source": [
    "print(\"Retorno esperado anual da ação da Microsoft: \" + str(round(expected_yearly_return, 4)))"
   ]
  }
 ],
 "metadata": {
  "kernelspec": {
   "display_name": "Python 3",
   "language": "python",
   "name": "python3"
  },
  "language_info": {
   "codemirror_mode": {
    "name": "ipython",
    "version": 3
   },
   "file_extension": ".py",
   "mimetype": "text/x-python",
   "name": "python",
   "nbconvert_exporter": "python",
   "pygments_lexer": "ipython3",
   "version": "3.10.2 (tags/v3.10.2:a58ebcc, Jan 17 2022, 14:12:15) [MSC v.1929 64 bit (AMD64)]"
  },
  "orig_nbformat": 4,
  "vscode": {
   "interpreter": {
    "hash": "c63d8c7d738c2960218a10995aedf0a7f67a49a231e71037adf0440953cdb45b"
   }
  }
 },
 "nbformat": 4,
 "nbformat_minor": 2
}
